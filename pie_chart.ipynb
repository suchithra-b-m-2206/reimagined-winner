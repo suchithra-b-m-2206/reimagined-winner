{
 "cells": [
  {
   "cell_type": "code",
   "execution_count": 1,
   "id": "8106d6e0",
   "metadata": {},
   "outputs": [
    {
     "data": {
      "text/plain": [
       "'Piechart.html'"
      ]
     },
     "execution_count": 1,
     "metadata": {},
     "output_type": "execute_result"
    }
   ],
   "source": [
    "import plotly.express as px\n",
    "import pandas as pd\n",
    "import plotly\n",
    "\n",
    "df = pd.read_csv('data.csv')\n",
    "values = df['Results']\n",
    "names = df['Category']\n",
    "\n",
    "\n",
    "fig = px.pie(df,\n",
    "            values=values,\n",
    "            names=names,\n",
    "            title='Survey Results'\n",
    "            )\n",
    "\n",
    "fig.update_traces(\n",
    "            textposition='inside',\n",
    "            textinfo='percent+label'\n",
    "            )\n",
    "\n",
    "fig.update_layout(\n",
    "            title_font_size = 42,\n",
    "            )\n",
    "\n",
    "\n",
    "plotly.offline.plot(fig,filename='Piechart.html')"
   ]
  },
  {
   "cell_type": "code",
   "execution_count": null,
   "id": "30a8118e",
   "metadata": {},
   "outputs": [],
   "source": []
  },
  {
   "cell_type": "code",
   "execution_count": null,
   "id": "17715f4e",
   "metadata": {},
   "outputs": [],
   "source": []
  }
 ],
 "metadata": {
  "kernelspec": {
   "display_name": "Python 3 (ipykernel)",
   "language": "python",
   "name": "python3"
  },
  "language_info": {
   "codemirror_mode": {
    "name": "ipython",
    "version": 3
   },
   "file_extension": ".py",
   "mimetype": "text/x-python",
   "name": "python",
   "nbconvert_exporter": "python",
   "pygments_lexer": "ipython3",
   "version": "3.11.5"
  }
 },
 "nbformat": 4,
 "nbformat_minor": 5
}
