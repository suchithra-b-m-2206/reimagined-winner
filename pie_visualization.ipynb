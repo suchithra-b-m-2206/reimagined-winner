{
 "cells": [
  {
   "cell_type": "code",
   "execution_count": 5,
   "id": "5d7593ff",
   "metadata": {},
   "outputs": [],
   "source": [
    "import dash\n",
    "import dash_core_components as dcc\n",
    "import dash_html_components as html\n",
    "from dash.dependencies import Input, Output\n",
    "import plotly.express as px\n",
    "import pandas as pd\n",
    "\n"
   ]
  },
  {
   "cell_type": "code",
   "execution_count": 7,
   "id": "e0d571bb",
   "metadata": {},
   "outputs": [],
   "source": [
    "app = dash.Dash(__name__)\n",
    "\n",
    "data = pd.DataFrame({'Category': ['Category A', 'Category B', 'Category C'],\n",
    "                     'Values': [30, 40, 30]})\n",
    "\n",
    "\n",
    "app.layout = html.Div([\n",
    "    html.H1(\"Pie Chart Data Visualization\"),\n",
    "    \n",
    "    dcc.Graph(id='pie-chart'),\n",
    "])\n",
    "\n",
    "\n",
    "@app.callback(\n",
    "    Output('pie-chart', 'figure'),\n",
    "    Input('pie-chart', 'relayoutData')\n",
    ")\n",
    "def update_pie_chart(relayoutData):\n",
    "        fig = px.pie(data, names='Category', values='Values', title='Pie Chart')\n",
    "        return fig\n",
    "\n"
   ]
  },
  {
   "cell_type": "code",
   "execution_count": 11,
   "id": "286c61a0",
   "metadata": {},
   "outputs": [
    {
     "data": {
      "text/html": [
       "\n",
       "        <iframe\n",
       "            width=\"100%\"\n",
       "            height=\"650\"\n",
       "            src=\"http://127.0.0.1:8089/\"\n",
       "            frameborder=\"0\"\n",
       "            allowfullscreen\n",
       "            \n",
       "        ></iframe>\n",
       "        "
      ],
      "text/plain": [
       "<IPython.lib.display.IFrame at 0x232e79bf690>"
      ]
     },
     "metadata": {},
     "output_type": "display_data"
    }
   ],
   "source": [
    "if __name__ == '__main__':\n",
    "    app.run_server(port=8089)\n"
   ]
  },
  {
   "cell_type": "code",
   "execution_count": null,
   "id": "9b48f81c",
   "metadata": {},
   "outputs": [],
   "source": []
  },
  {
   "cell_type": "code",
   "execution_count": null,
   "id": "e94bf33b",
   "metadata": {},
   "outputs": [],
   "source": []
  }
 ],
 "metadata": {
  "kernelspec": {
   "display_name": "Python 3 (ipykernel)",
   "language": "python",
   "name": "python3"
  },
  "language_info": {
   "codemirror_mode": {
    "name": "ipython",
    "version": 3
   },
   "file_extension": ".py",
   "mimetype": "text/x-python",
   "name": "python",
   "nbconvert_exporter": "python",
   "pygments_lexer": "ipython3",
   "version": "3.11.5"
  }
 },
 "nbformat": 4,
 "nbformat_minor": 5
}
