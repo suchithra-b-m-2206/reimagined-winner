{
 "cells": [
  {
   "cell_type": "code",
   "execution_count": 2,
   "id": "9de1eea8",
   "metadata": {},
   "outputs": [],
   "source": [
    "from pymongo import MongoClient"
   ]
  },
  {
   "cell_type": "code",
   "execution_count": 3,
   "id": "0e99af42",
   "metadata": {},
   "outputs": [],
   "source": [
    "client= MongoClient('mongodb://localhost:27017/')"
   ]
  },
  {
   "cell_type": "code",
   "execution_count": 4,
   "id": "a2391382",
   "metadata": {},
   "outputs": [
    {
     "data": {
      "text/plain": [
       "['admin', 'config', 'cscorner', 'database2', 'demo', 'local', 'mydbms']"
      ]
     },
     "execution_count": 4,
     "metadata": {},
     "output_type": "execute_result"
    }
   ],
   "source": [
    "client.list_database_names()"
   ]
  },
  {
   "cell_type": "code",
   "execution_count": 5,
   "id": "2d935c87",
   "metadata": {},
   "outputs": [],
   "source": [
    "db = client[\"demo\"]"
   ]
  },
  {
   "cell_type": "code",
   "execution_count": 6,
   "id": "139d27a9",
   "metadata": {},
   "outputs": [
    {
     "data": {
      "text/plain": [
       "['students']"
      ]
     },
     "execution_count": 6,
     "metadata": {},
     "output_type": "execute_result"
    }
   ],
   "source": [
    "db.list_collection_names()"
   ]
  },
  {
   "cell_type": "code",
   "execution_count": 7,
   "id": "cdef1ad7",
   "metadata": {},
   "outputs": [],
   "source": [
    "collection = db[\"employee\"]"
   ]
  },
  {
   "cell_type": "code",
   "execution_count": 9,
   "id": "611ac6ef",
   "metadata": {},
   "outputs": [],
   "source": [
    "employee = db[\"employee\"]"
   ]
  },
  {
   "cell_type": "code",
   "execution_count": 10,
   "id": "f30d19a3",
   "metadata": {},
   "outputs": [
    {
     "data": {
      "text/plain": [
       "0"
      ]
     },
     "execution_count": 10,
     "metadata": {},
     "output_type": "execute_result"
    }
   ],
   "source": [
    "employee.count_documents({})"
   ]
  },
  {
   "cell_type": "code",
   "execution_count": 16,
   "id": "d21a75f7",
   "metadata": {},
   "outputs": [
    {
     "data": {
      "text/plain": [
       "<pymongo.results.InsertOneResult at 0x25de936a6b0>"
      ]
     },
     "execution_count": 16,
     "metadata": {},
     "output_type": "execute_result"
    }
   ],
   "source": [
    "employee.insert_one({\"id\":1,\"name\":\"ramesh\",\"batch\":\"A\",\"salary\":6000})"
   ]
  },
  {
   "cell_type": "code",
   "execution_count": 17,
   "id": "940b16e1",
   "metadata": {},
   "outputs": [
    {
     "data": {
      "text/plain": [
       "<pymongo.results.InsertOneResult at 0x25de9351600>"
      ]
     },
     "execution_count": 17,
     "metadata": {},
     "output_type": "execute_result"
    }
   ],
   "source": [
    "employee.insert_one({\"id\":2,\"name\":\"manish\",\"batch\":\"c\",\"salary\":8000})"
   ]
  },
  {
   "cell_type": "code",
   "execution_count": 20,
   "id": "7330df42",
   "metadata": {},
   "outputs": [
    {
     "data": {
      "text/plain": [
       "<pymongo.results.InsertOneResult at 0x25de85e8e50>"
      ]
     },
     "execution_count": 20,
     "metadata": {},
     "output_type": "execute_result"
    }
   ],
   "source": [
    "employee.insert_one({\"id\":3,\"name\":\"rakesh\",\"batch\":\"B\",\"salary\":3000})"
   ]
  },
  {
   "cell_type": "code",
   "execution_count": 21,
   "id": "cb51ef63",
   "metadata": {},
   "outputs": [
    {
     "data": {
      "text/plain": [
       "3"
      ]
     },
     "execution_count": 21,
     "metadata": {},
     "output_type": "execute_result"
    }
   ],
   "source": [
    "employee.count_documents({})"
   ]
  },
  {
   "cell_type": "code",
   "execution_count": 22,
   "id": "757bf628",
   "metadata": {},
   "outputs": [
    {
     "data": {
      "text/plain": [
       "{'_id': ObjectId('652cdf7874d72169c2954085'),\n",
       " 'id': 1,\n",
       " 'name': 'ramesh',\n",
       " 'batch': 'A',\n",
       " 'salary': 6000}"
      ]
     },
     "execution_count": 22,
     "metadata": {},
     "output_type": "execute_result"
    }
   ],
   "source": [
    "employee.find_one()"
   ]
  },
  {
   "cell_type": "code",
   "execution_count": 35,
   "id": "a43951d0",
   "metadata": {},
   "outputs": [],
   "source": [
    "data=[\n",
    "     {\"id\":4,\"name\":\"siddesh\",\"batch\":\"A\",\"salary\":5000},\n",
    "     {\"id\":5,\"name\":\"abc\",\"batch\":\"B\",\"salary\":9000},\n",
    "     {\"id\":6,\"name\":\"sudama\",\"batch\":\"C\",\"salary\":7000},\n",
    "      {\"id\":7,\"name\":\"siddesh\",\"batch\":\"A\",\"salary\":5000},\n",
    "      {\"id\":8,\"name\":\"jnanesh\",\"batch\":\"B\",\"salary\":9000}]"
   ]
  },
  {
   "cell_type": "code",
   "execution_count": 34,
   "id": "5392edb8",
   "metadata": {},
   "outputs": [
    {
     "ename": "AttributeError",
     "evalue": "'dict' object has no attribute 'insert_many'",
     "output_type": "error",
     "traceback": [
      "\u001b[1;31m---------------------------------------------------------------------------\u001b[0m",
      "\u001b[1;31mAttributeError\u001b[0m                            Traceback (most recent call last)",
      "Cell \u001b[1;32mIn[34], line 1\u001b[0m\n\u001b[1;32m----> 1\u001b[0m employee\u001b[38;5;241m.\u001b[39minsert_many(data)\n",
      "\u001b[1;31mAttributeError\u001b[0m: 'dict' object has no attribute 'insert_many'"
     ]
    }
   ],
   "source": [
    "employee.insert_many(data)"
   ]
  },
  {
   "cell_type": "code",
   "execution_count": 28,
   "id": "d4be08b7",
   "metadata": {},
   "outputs": [
    {
     "ename": "NameError",
     "evalue": "name 'employees' is not defined",
     "output_type": "error",
     "traceback": [
      "\u001b[1;31m---------------------------------------------------------------------------\u001b[0m",
      "\u001b[1;31mNameError\u001b[0m                                 Traceback (most recent call last)",
      "Cell \u001b[1;32mIn[28], line 1\u001b[0m\n\u001b[1;32m----> 1\u001b[0m \u001b[38;5;28;01mfor\u001b[39;00m employee \u001b[38;5;129;01min\u001b[39;00m employees\u001b[38;5;241m.\u001b[39mfind():\n\u001b[0;32m      2\u001b[0m   \u001b[38;5;28mprint\u001b[39m(employee)\n",
      "\u001b[1;31mNameError\u001b[0m: name 'employees' is not defined"
     ]
    }
   ],
   "source": [
    "for employee in employees.find():\n",
    "  print(employee)"
   ]
  },
  {
   "cell_type": "code",
   "execution_count": null,
   "id": "0965b0c4",
   "metadata": {},
   "outputs": [],
   "source": []
  }
 ],
 "metadata": {
  "kernelspec": {
   "display_name": "Python 3 (ipykernel)",
   "language": "python",
   "name": "python3"
  },
  "language_info": {
   "codemirror_mode": {
    "name": "ipython",
    "version": 3
   },
   "file_extension": ".py",
   "mimetype": "text/x-python",
   "name": "python",
   "nbconvert_exporter": "python",
   "pygments_lexer": "ipython3",
   "version": "3.11.5"
  }
 },
 "nbformat": 4,
 "nbformat_minor": 5
}
