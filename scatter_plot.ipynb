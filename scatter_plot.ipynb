{
 "cells": [
  {
   "cell_type": "code",
   "execution_count": null,
   "id": "d105fb42",
   "metadata": {},
   "outputs": [],
   "source": []
  },
  {
   "cell_type": "code",
   "execution_count": 6,
   "id": "2bf20e5f",
   "metadata": {},
   "outputs": [],
   "source": [
    "import dash\n",
    "import dash_core_components as dcc\n",
    "import dash_html_components as html\n",
    "import numpy as np\n",
    "import plotly.graph_objs as go"
   ]
  },
  {
   "cell_type": "code",
   "execution_count": 7,
   "id": "06de83bf",
   "metadata": {},
   "outputs": [],
   "source": [
    "app=dash.Dash()"
   ]
  },
  {
   "cell_type": "code",
   "execution_count": 8,
   "id": "88acebdf",
   "metadata": {},
   "outputs": [],
   "source": [
    "np.random.seed(50)\n",
    "x_rand=np.random.randint(1,61,60)\n",
    "y_rand=np.random.randint(1,61,60)"
   ]
  },
  {
   "cell_type": "code",
   "execution_count": 9,
   "id": "f71826ec",
   "metadata": {},
   "outputs": [],
   "source": [
    "app.layout =html.Div([\n",
    "    dcc.Graph(\n",
    "    id='scatter_char',\n",
    "    figure={\n",
    "        'data':[\n",
    "            go.Scatter(\n",
    "                x = x_rand,\n",
    "                y = y_rand,\n",
    "                mode='markers'\n",
    "            )\n",
    "        ],\n",
    "        'layout': go.Layout(\n",
    "        title='Scatterplot of random 60 points',\n",
    "        xaxis={'title': 'Random x value'},\n",
    "        yaxis={'title': 'Random y value'})\n",
    "            \n",
    "        \n",
    "    })\n",
    "])"
   ]
  },
  {
   "cell_type": "code",
   "execution_count": 10,
   "id": "ba143ddc",
   "metadata": {},
   "outputs": [
    {
     "data": {
      "text/html": [
       "\n",
       "        <iframe\n",
       "            width=\"100%\"\n",
       "            height=\"650\"\n",
       "            src=\"http://127.0.0.1:8081/\"\n",
       "            frameborder=\"0\"\n",
       "            allowfullscreen\n",
       "            \n",
       "        ></iframe>\n",
       "        "
      ],
      "text/plain": [
       "<IPython.lib.display.IFrame at 0x1a5bec47c90>"
      ]
     },
     "metadata": {},
     "output_type": "display_data"
    }
   ],
   "source": [
    "if __name__=='__main__':\n",
    "     app.run_server(port=8081)"
   ]
  },
  {
   "cell_type": "code",
   "execution_count": null,
   "id": "d131a3e9",
   "metadata": {},
   "outputs": [],
   "source": []
  }
 ],
 "metadata": {
  "kernelspec": {
   "display_name": "Python 3 (ipykernel)",
   "language": "python",
   "name": "python3"
  },
  "language_info": {
   "codemirror_mode": {
    "name": "ipython",
    "version": 3
   },
   "file_extension": ".py",
   "mimetype": "text/x-python",
   "name": "python",
   "nbconvert_exporter": "python",
   "pygments_lexer": "ipython3",
   "version": "3.11.5"
  }
 },
 "nbformat": 4,
 "nbformat_minor": 5
}
