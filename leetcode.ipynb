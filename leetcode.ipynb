{
 "cells": [
  {
   "cell_type": "code",
   "execution_count": 13,
   "id": "1ac28627",
   "metadata": {},
   "outputs": [
    {
     "name": "stdout",
     "output_type": "stream",
     "text": [
      "Enter the number of elements2\n",
      "1\n",
      "1\n",
      "[1, 1]\n",
      "2\n",
      "[0, 0]\n"
     ]
    }
   ],
   "source": [
    "#too sum\n",
    "nums=[]\n",
    "n=int(input(\"Enter the number of elements\"))\n",
    "for i in range ( 0,n):\n",
    "    ele=int(input())\n",
    "    nums.append(ele)\n",
    "print(nums)    \n",
    "target=int(input())\n",
    "for i in  nums[0:]:\n",
    "    for j in nums[1:]:\n",
    "        if ((i+j)==target):\n",
    "            k=nums.index(i)\n",
    "            l=nums.index(j)\n",
    "            result=[k,l]\n",
    "print(result)            "
   ]
  },
  {
   "cell_type": "code",
   "execution_count": null,
   "id": "d2b4867f",
   "metadata": {},
   "outputs": [],
   "source": []
  }
 ],
 "metadata": {
  "kernelspec": {
   "display_name": "Python 3 (ipykernel)",
   "language": "python",
   "name": "python3"
  },
  "language_info": {
   "codemirror_mode": {
    "name": "ipython",
    "version": 3
   },
   "file_extension": ".py",
   "mimetype": "text/x-python",
   "name": "python",
   "nbconvert_exporter": "python",
   "pygments_lexer": "ipython3",
   "version": "3.11.5"
  }
 },
 "nbformat": 4,
 "nbformat_minor": 5
}
