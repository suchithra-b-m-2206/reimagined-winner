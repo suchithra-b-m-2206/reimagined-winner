{
 "cells": [
  {
   "cell_type": "code",
   "execution_count": 1,
   "id": "8503e4c9",
   "metadata": {
    "scrolled": true
   },
   "outputs": [
    {
     "data": {
      "text/html": [
       "\n",
       "        <iframe\n",
       "            width=\"100%\"\n",
       "            height=\"650\"\n",
       "            src=\"http://127.0.0.1:8050/\"\n",
       "            frameborder=\"0\"\n",
       "            allowfullscreen\n",
       "            \n",
       "        ></iframe>\n",
       "        "
      ],
      "text/plain": [
       "<IPython.lib.display.IFrame at 0x1ab6e922550>"
      ]
     },
     "metadata": {},
     "output_type": "display_data"
    }
   ],
   "source": [
    "import dash\n",
    "from dash import dcc, html\n",
    "from dash.dependencies import Input, Output\n",
    "\n",
    "app = dash.Dash(__name__)\n",
    "\n",
    "app.layout = html.Div([\n",
    "    html.H1(\"Simple Web Application\"),\n",
    "    \n",
    "    dcc.Checklist(\n",
    "        id='checkbox',\n",
    "        options=[\n",
    "            {'label': 'Option 1', 'value': 'option1'},\n",
    "            {'label': 'Option 2', 'value': 'option2'}\n",
    "        ],\n",
    "        value=[]\n",
    "    ),\n",
    "    \n",
    "    dcc.RadioItems(\n",
    "        id='radio',\n",
    "        options=[\n",
    "            {'label': 'Choice 1', 'value': 'choice1'},\n",
    "            {'label': 'Choice 2', 'value': 'choice2'}\n",
    "        ],\n",
    "        value='choice1'\n",
    "    ),\n",
    "    \n",
    "    dcc.Slider(\n",
    "        id='slider',\n",
    "        min=0,\n",
    "        max=10,\n",
    "        step=0.1,\n",
    "        value=5\n",
    "    ),\n",
    "    \n",
    "    dcc.Dropdown(\n",
    "        id='dropdown',\n",
    "        options=[\n",
    "            {'label': 'Item 1', 'value': 'item1'},\n",
    "            {'label': 'Item 2', 'value': 'item2'}\n",
    "        ],\n",
    "        value='item1'\n",
    "    ),\n",
    "    \n",
    "    dcc.Input(\n",
    "        id='input-text',\n",
    "        type='text',\n",
    "        value='Default Text'\n",
    "    ),\n",
    "    \n",
    "\n",
    "    html.Div(id='output')\n",
    "])\n",
    "\n",
    "\n",
    "@app.callback(\n",
    "    Output('output', 'children'),\n",
    "    Input('checkbox', 'value'),\n",
    "    Input('radio', 'value'),\n",
    "    Input('slider', 'value'),\n",
    "    Input('dropdown', 'value'),\n",
    "    Input('input-text', 'value')\n",
    ")\n",
    "def update_output(checkbox_value, radio_value, slider_value, dropdown_value, input_text_value):\n",
    "    return f\"Checkbox: {checkbox_value}, Radio: {radio_value}, Slider: {slider_value}, Dropdown: {dropdown_value}, Text: {input_text_value}\"\n",
    "\n",
    "if __name__ == '__main__':\n",
    "    app.run_server(debug=True)\n"
   ]
  },
  {
   "cell_type": "code",
   "execution_count": null,
   "id": "b48f7697",
   "metadata": {},
   "outputs": [],
   "source": []
  }
 ],
 "metadata": {
  "kernelspec": {
   "display_name": "Python 3 (ipykernel)",
   "language": "python",
   "name": "python3"
  },
  "language_info": {
   "codemirror_mode": {
    "name": "ipython",
    "version": 3
   },
   "file_extension": ".py",
   "mimetype": "text/x-python",
   "name": "python",
   "nbconvert_exporter": "python",
   "pygments_lexer": "ipython3",
   "version": "3.11.5"
  }
 },
 "nbformat": 4,
 "nbformat_minor": 5
}
